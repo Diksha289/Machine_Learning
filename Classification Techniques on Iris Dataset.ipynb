{
 "cells": [
  {
   "cell_type": "markdown",
   "id": "3c5f0492",
   "metadata": {},
   "source": [
    "# Classification Techniques :\n",
    "    1. KNN\n",
    "    2. Support Vector\n",
    "    3. Naive Bayes\n",
    "    4. Decision Tree\n",
    "    5. Logistic Regression\n",
    "    6. Random Forest"
   ]
  },
  {
   "cell_type": "code",
   "execution_count": 3,
   "id": "aa5fc8c4",
   "metadata": {},
   "outputs": [],
   "source": [
    "import numpy as np\n",
    "import pandas as pd\n",
    "import matplotlib.pyplot as plt\n",
    "from sklearn.datasets import load_iris\n",
    "data=load_iris(as_frame=True)\n",
    "X=data.data\n",
    "Y=data.target"
   ]
  },
  {
   "cell_type": "markdown",
   "id": "6d4342f7",
   "metadata": {},
   "source": [
    "# 1.KNN"
   ]
  },
  {
   "cell_type": "code",
   "execution_count": 4,
   "id": "ea3edf7c",
   "metadata": {},
   "outputs": [],
   "source": [
    "from sklearn.model_selection import train_test_split\n",
    "x_train, x_test, y_train, y_test = train_test_split(X, Y, test_size=0.20)"
   ]
  },
  {
   "cell_type": "code",
   "execution_count": 5,
   "id": "04df8b64",
   "metadata": {},
   "outputs": [
    {
     "data": {
      "text/plain": [
       "KNeighborsClassifier(n_neighbors=1)"
      ]
     },
     "execution_count": 5,
     "metadata": {},
     "output_type": "execute_result"
    }
   ],
   "source": [
    "from sklearn.neighbors import KNeighborsClassifier\n",
    "\n",
    "classifier=KNeighborsClassifier(n_neighbors=1)\n",
    "\n",
    "classifier.fit(x_train,y_train)"
   ]
  },
  {
   "cell_type": "code",
   "execution_count": 6,
   "id": "6c74af4a",
   "metadata": {},
   "outputs": [
    {
     "name": "stdout",
     "output_type": "stream",
     "text": [
      "15     0\n",
      "60     1\n",
      "80     1\n",
      "148    2\n",
      "56     1\n",
      "79     1\n",
      "88     1\n",
      "145    2\n",
      "26     0\n",
      "129    2\n",
      "53     1\n",
      "68     1\n",
      "106    2\n",
      "81     1\n",
      "82     1\n",
      "41     0\n",
      "98     1\n",
      "33     0\n",
      "44     0\n",
      "43     0\n",
      "70     1\n",
      "140    2\n",
      "118    2\n",
      "10     0\n",
      "40     0\n",
      "23     0\n",
      "7      0\n",
      "97     1\n",
      "114    2\n",
      "52     1\n",
      "Name: target, dtype: int32\n",
      "[0 1 1 2 1 1 1 2 0 2 1 1 1 1 1 0 1 0 0 0 2 2 2 0 0 0 0 1 2 1]\n"
     ]
    }
   ],
   "source": [
    "y_pred=classifier.predict(x_test)\n",
    "print(y_test)\n",
    "print(y_pred)"
   ]
  },
  {
   "cell_type": "code",
   "execution_count": 7,
   "id": "a9d2185d",
   "metadata": {},
   "outputs": [
    {
     "data": {
      "text/plain": [
       "array([[10,  0,  0],\n",
       "       [ 0, 12,  1],\n",
       "       [ 0,  1,  6]], dtype=int64)"
      ]
     },
     "metadata": {},
     "output_type": "display_data"
    },
    {
     "name": "stdout",
     "output_type": "stream",
     "text": [
      "Accuracy of the model is  93.33333333333333 %\n",
      "Error rate of model is 6.666666666666671 %\n"
     ]
    }
   ],
   "source": [
    "from sklearn.metrics import confusion_matrix, accuracy_score\n",
    "\n",
    "cm=confusion_matrix(y_test,y_pred)\n",
    "display(cm)\n",
    "\n",
    "print(\"Accuracy of the model is \",accuracy_score(y_test,y_pred)*100,\"%\")\n",
    "print(\"Error rate of model is\",100-accuracy_score(y_test,y_pred)*100,\"%\")"
   ]
  },
  {
   "cell_type": "markdown",
   "id": "a9b9ddfa",
   "metadata": {},
   "source": [
    "# Evaluate alternative K-values for better predictions"
   ]
  },
  {
   "cell_type": "code",
   "execution_count": 8,
   "id": "58159dbd",
   "metadata": {},
   "outputs": [
    {
     "name": "stdout",
     "output_type": "stream",
     "text": [
      "Accuracy Score k=1 : 0.93\n",
      "Accuracy Score k=3 : 0.93\n",
      "Accuracy Score k=5 : 0.93\n",
      "Accuracy Score k=7 : 0.93\n",
      "Accuracy Score k=9 : 0.93\n",
      "Accuracy Score k=11 : 0.93\n",
      "Accuracy Score k=13 : 0.93\n",
      "Accuracy Score k=15 : 0.93\n",
      "Accuracy Score k=17 : 0.93\n",
      "Accuracy Score k=19 : 0.93\n",
      "Accuracy Score k=21 : 0.97\n",
      "Accuracy Score k=23 : 0.93\n",
      "Accuracy Score k=25 : 0.93\n",
      "Accuracy Score k=27 : 0.97\n",
      "Accuracy Score k=29 : 0.93\n",
      "Accuracy Score k=31 : 0.97\n",
      "Accuracy Score k=33 : 0.97\n",
      "Accuracy Score k=35 : 0.93\n",
      "Accuracy Score k=37 : 0.93\n",
      "Accuracy Score k=39 : 0.93\n",
      "Accuracy Score k=41 : 0.93\n",
      "Accuracy Score k=43 : 0.93\n",
      "Accuracy Score k=45 : 0.93\n",
      "Accuracy Score k=47 : 0.93\n",
      "Accuracy Score k=49 : 0.93\n"
     ]
    }
   ],
   "source": [
    "k_list=list(range(1,50,2))\n",
    "acc_score=[]\n",
    "err_rate=[]\n",
    "for x in k_list:\n",
    "    classifier=KNeighborsClassifier(n_neighbors=x)\n",
    "    classifier.fit(x_train,y_train)\n",
    "    y_pred=classifier.predict(x_test)\n",
    "    print('Accuracy Score k=%d : %1.2f'%(x,accuracy_score(y_test,y_pred)))\n",
    "    acc_score.append(accuracy_score(y_test,y_pred))\n",
    "    err_rate.append(1-accuracy_score(y_test,y_pred))"
   ]
  },
  {
   "cell_type": "code",
   "execution_count": 9,
   "id": "82bac0ec",
   "metadata": {},
   "outputs": [
    {
     "data": {
      "text/plain": [
       "array([[10,  0,  0],\n",
       "       [ 0, 12,  1],\n",
       "       [ 0,  1,  6]], dtype=int64)"
      ]
     },
     "metadata": {},
     "output_type": "display_data"
    },
    {
     "data": {
      "text/plain": [
       "0.9333333333333333"
      ]
     },
     "metadata": {},
     "output_type": "display_data"
    }
   ],
   "source": [
    "classifier=KNeighborsClassifier(n_neighbors=13)\n",
    "classifier.fit(x_train,y_train)\n",
    "y_pred=classifier.predict(x_test)\n",
    "display(confusion_matrix(y_test,y_pred))\n",
    "display(accuracy_score(y_test,y_pred))"
   ]
  },
  {
   "cell_type": "code",
   "execution_count": 10,
   "id": "82bcf50f",
   "metadata": {},
   "outputs": [
    {
     "name": "stdout",
     "output_type": "stream",
     "text": [
      "Accuracy of the model is  93.33333333333333 %\n",
      "Error rate of the model is  6.67 %\n"
     ]
    }
   ],
   "source": [
    "print(\"Accuracy of the model is \",accuracy_score(y_test,y_pred)*100,\"%\")\n",
    "print(\"Error rate of the model is \",round(100-accuracy_score(y_test,y_pred)*100,2),\"%\")"
   ]
  },
  {
   "cell_type": "code",
   "execution_count": 11,
   "id": "dace35aa",
   "metadata": {},
   "outputs": [
    {
     "name": "stdout",
     "output_type": "stream",
     "text": [
      "              precision    recall  f1-score   support\n",
      "\n",
      "           0       1.00      1.00      1.00        10\n",
      "           1       0.92      0.92      0.92        13\n",
      "           2       0.86      0.86      0.86         7\n",
      "\n",
      "    accuracy                           0.93        30\n",
      "   macro avg       0.93      0.93      0.93        30\n",
      "weighted avg       0.93      0.93      0.93        30\n",
      "\n"
     ]
    }
   ],
   "source": [
    "from sklearn.metrics import classification_report,accuracy_score,confusion_matrix\n",
    "print(classification_report(y_test,y_pred))"
   ]
  },
  {
   "cell_type": "code",
   "execution_count": 12,
   "id": "9373cea2",
   "metadata": {},
   "outputs": [
    {
     "name": "stdout",
     "output_type": "stream",
     "text": [
      "1.0\n",
      "1.0\n",
      "1.0\n",
      "0.0\n",
      "0.9230769230769231\n",
      "0.8571428571428571\n",
      "0.9230769230769231\n",
      "0.14285714285714285\n",
      "0.8571428571428571\n",
      "0.9565217391304348\n",
      "0.8571428571428571\n",
      "0.043478260869565216\n"
     ]
    }
   ],
   "source": [
    "#setosa\n",
    "TP=cm[0,0]\n",
    "TN=cm[1,1]+cm[1,2]+cm[2,1]+cm[2,2]\n",
    "FN=cm[0,1]+cm[0,2]\n",
    "FP=cm[1,0]+cm[2,0]\n",
    "set_TPR=TP/float(TP+FN)\n",
    "set_TNR=TN/float(TN+FP)\n",
    "set_Pre=TP/float(TP+FP)\n",
    "set_FPR=FP/float(FP+TN)\n",
    "print(set_TPR)\n",
    "print(set_TNR)\n",
    "print(set_Pre)\n",
    "print(set_FPR)\n",
    "#versicolore\n",
    "TP=cm[1,1]\n",
    "TN=cm[0,1]+cm[0,2]+cm[2,0]+cm[2,2]\n",
    "FN=cm[1,0]+cm[1,2]\n",
    "FP=cm[0,1]+cm[2,1]\n",
    "ver_TPR=TP/float(TP+FN)\n",
    "ver_TNR=TN/float(TN+FP)\n",
    "ver_Pre=TP/float(TP+FP)\n",
    "ver_FPR=FP/float(FP+TN)\n",
    "print(ver_TPR)\n",
    "print(ver_TNR)\n",
    "print(ver_Pre)\n",
    "print(ver_FPR)\n",
    "#virginia\n",
    "TP=cm[2,2]\n",
    "TN=cm[0,0]+cm[0,1]+cm[1,0]+cm[1,1]\n",
    "FN=cm[2,0]+cm[2,1]\n",
    "FP=cm[0,2]+cm[1,2]\n",
    "vir_TPR=TP/float(TP+FN)\n",
    "vir_TNR=TN/float(TN+FP)\n",
    "vir_Pre=TP/float(TP+FP)\n",
    "vir_FPR=FP/float(FP+TN)\n",
    "print(vir_TPR)\n",
    "print(vir_TNR)\n",
    "print(vir_Pre)\n",
    "print(vir_FPR)"
   ]
  },
  {
   "cell_type": "code",
   "execution_count": 13,
   "id": "c4ed6466",
   "metadata": {},
   "outputs": [
    {
     "data": {
      "text/html": [
       "<div>\n",
       "<style scoped>\n",
       "    .dataframe tbody tr th:only-of-type {\n",
       "        vertical-align: middle;\n",
       "    }\n",
       "\n",
       "    .dataframe tbody tr th {\n",
       "        vertical-align: top;\n",
       "    }\n",
       "\n",
       "    .dataframe thead th {\n",
       "        text-align: right;\n",
       "    }\n",
       "</style>\n",
       "<table border=\"1\" class=\"dataframe\">\n",
       "  <thead>\n",
       "    <tr style=\"text-align: right;\">\n",
       "      <th></th>\n",
       "      <th>TPR</th>\n",
       "      <th>TNR</th>\n",
       "      <th>Pre</th>\n",
       "      <th>FPR</th>\n",
       "    </tr>\n",
       "  </thead>\n",
       "  <tbody>\n",
       "    <tr>\n",
       "      <th>Setosa</th>\n",
       "      <td>1</td>\n",
       "      <td>0</td>\n",
       "      <td>0.9230</td>\n",
       "      <td>1</td>\n",
       "    </tr>\n",
       "    <tr>\n",
       "      <th>Versicolor</th>\n",
       "      <td>1</td>\n",
       "      <td>1</td>\n",
       "      <td>0.1</td>\n",
       "      <td>1</td>\n",
       "    </tr>\n",
       "    <tr>\n",
       "      <th>Virginica</th>\n",
       "      <td>1</td>\n",
       "      <td>0.9</td>\n",
       "      <td>0.9</td>\n",
       "      <td>0</td>\n",
       "    </tr>\n",
       "  </tbody>\n",
       "</table>\n",
       "</div>"
      ],
      "text/plain": [
       "           TPR  TNR     Pre FPR\n",
       "Setosa       1    0  0.9230   1\n",
       "Versicolor   1    1     0.1   1\n",
       "Virginica    1  0.9     0.9   0"
      ]
     },
     "execution_count": 13,
     "metadata": {},
     "output_type": "execute_result"
    }
   ],
   "source": [
    "df=pd.DataFrame({\"TPR\":['1','1','1'],\"TNR\":['0','1','0.9'],\"Pre\":['0.9230','0.1','0.9'],\"FPR\":['1','1','0']})\n",
    "df.index=['Setosa','Versicolor','Virginica']\n",
    "df"
   ]
  },
  {
   "cell_type": "markdown",
   "id": "029effb0",
   "metadata": {},
   "source": [
    "# 2. Support Vector"
   ]
  },
  {
   "cell_type": "code",
   "execution_count": 14,
   "id": "92e3a1c8",
   "metadata": {},
   "outputs": [],
   "source": [
    "from sklearn.model_selection import train_test_split\n",
    "x_train,x_test,y_train,y_test = train_test_split(X,Y,test_size=0.30)"
   ]
  },
  {
   "cell_type": "code",
   "execution_count": 15,
   "id": "f5667c52",
   "metadata": {},
   "outputs": [
    {
     "data": {
      "text/plain": [
       "SVC()"
      ]
     },
     "execution_count": 15,
     "metadata": {},
     "output_type": "execute_result"
    }
   ],
   "source": [
    "from sklearn.svm import SVC\n",
    "model=SVC()\n",
    "model.fit(x_train,y_train)"
   ]
  },
  {
   "cell_type": "code",
   "execution_count": 16,
   "id": "c30cbce3",
   "metadata": {},
   "outputs": [],
   "source": [
    "pred=model.predict(x_test)"
   ]
  },
  {
   "cell_type": "code",
   "execution_count": 17,
   "id": "19a24e67",
   "metadata": {},
   "outputs": [
    {
     "data": {
      "text/plain": [
       "array([[11,  0,  0],\n",
       "       [ 0, 12,  2],\n",
       "       [ 0,  1, 19]], dtype=int64)"
      ]
     },
     "metadata": {},
     "output_type": "display_data"
    },
    {
     "name": "stdout",
     "output_type": "stream",
     "text": [
      "Accuracy of model is: 0.9333333333333333\n",
      "Error rate of model is: 0.06666666666666665\n"
     ]
    }
   ],
   "source": [
    "from sklearn.metrics import confusion_matrix,accuracy_score\n",
    "cm = confusion_matrix(y_test,pred)\n",
    "display(cm)\n",
    "print(\"Accuracy of model is:\",accuracy_score(y_test,pred))\n",
    "print(\"Error rate of model is:\",1-accuracy_score(y_test,pred))"
   ]
  },
  {
   "cell_type": "code",
   "execution_count": 18,
   "id": "c645ac9a",
   "metadata": {},
   "outputs": [
    {
     "name": "stdout",
     "output_type": "stream",
     "text": [
      "              precision    recall  f1-score   support\n",
      "\n",
      "           0       1.00      1.00      1.00        11\n",
      "           1       0.92      0.86      0.89        14\n",
      "           2       0.90      0.95      0.93        20\n",
      "\n",
      "    accuracy                           0.93        45\n",
      "   macro avg       0.94      0.94      0.94        45\n",
      "weighted avg       0.93      0.93      0.93        45\n",
      "\n"
     ]
    }
   ],
   "source": [
    "from sklearn.metrics import classification_report,accuracy_score,confusion_matrix\n",
    "print(classification_report(y_test,pred))"
   ]
  },
  {
   "cell_type": "code",
   "execution_count": 19,
   "id": "8480ef92",
   "metadata": {},
   "outputs": [
    {
     "name": "stdout",
     "output_type": "stream",
     "text": [
      "1.0\n",
      "1.0\n",
      "1.0\n",
      "0.0\n",
      "0.8571428571428571\n",
      "0.95\n",
      "0.9230769230769231\n",
      "0.05\n",
      "0.95\n",
      "0.92\n",
      "0.9047619047619048\n",
      "0.08\n"
     ]
    }
   ],
   "source": [
    "#setosa\n",
    "TP=cm[0,0]\n",
    "TN=cm[1,1]+cm[1,2]+cm[2,1]+cm[2,2]\n",
    "FN=cm[0,1]+cm[0,2]\n",
    "FP=cm[1,0]+cm[2,0]\n",
    "set_TPR=TP/float(TP+FN)\n",
    "set_TNR=TN/float(TN+FP)\n",
    "set_Pre=TP/float(TP+FP)\n",
    "set_FPR=FP/float(FP+TN)\n",
    "print(set_TPR)\n",
    "print(set_TNR)\n",
    "print(set_Pre)\n",
    "print(set_FPR)\n",
    "#versicolore\n",
    "TP=cm[1,1]\n",
    "TN=cm[0,1]+cm[0,2]+cm[2,0]+cm[2,2]\n",
    "FN=cm[1,0]+cm[1,2]\n",
    "FP=cm[0,1]+cm[2,1]\n",
    "ver_TPR=TP/float(TP+FN)\n",
    "ver_TNR=TN/float(TN+FP)\n",
    "ver_Pre=TP/float(TP+FP)\n",
    "ver_FPR=FP/float(FP+TN)\n",
    "print(ver_TPR)\n",
    "print(ver_TNR)\n",
    "print(ver_Pre)\n",
    "print(ver_FPR)\n",
    "#virginia\n",
    "TP=cm[2,2]\n",
    "TN=cm[0,0]+cm[0,1]+cm[1,0]+cm[1,1]\n",
    "FN=cm[2,0]+cm[2,1]\n",
    "FP=cm[0,2]+cm[1,2]\n",
    "vir_TPR=TP/float(TP+FN)\n",
    "vir_TNR=TN/float(TN+FP)\n",
    "vir_Pre=TP/float(TP+FP)\n",
    "vir_FPR=FP/float(FP+TN)\n",
    "print(vir_TPR)\n",
    "print(vir_TNR)\n",
    "print(vir_Pre)\n",
    "print(vir_FPR)"
   ]
  },
  {
   "cell_type": "code",
   "execution_count": 20,
   "id": "b1b6046b",
   "metadata": {},
   "outputs": [
    {
     "data": {
      "text/html": [
       "<div>\n",
       "<style scoped>\n",
       "    .dataframe tbody tr th:only-of-type {\n",
       "        vertical-align: middle;\n",
       "    }\n",
       "\n",
       "    .dataframe tbody tr th {\n",
       "        vertical-align: top;\n",
       "    }\n",
       "\n",
       "    .dataframe thead th {\n",
       "        text-align: right;\n",
       "    }\n",
       "</style>\n",
       "<table border=\"1\" class=\"dataframe\">\n",
       "  <thead>\n",
       "    <tr style=\"text-align: right;\">\n",
       "      <th></th>\n",
       "      <th>TPR</th>\n",
       "      <th>TNR</th>\n",
       "      <th>Pre</th>\n",
       "      <th>FPR</th>\n",
       "    </tr>\n",
       "  </thead>\n",
       "  <tbody>\n",
       "    <tr>\n",
       "      <th>Setosa</th>\n",
       "      <td>1</td>\n",
       "      <td>0</td>\n",
       "      <td>1</td>\n",
       "      <td>0.96875</td>\n",
       "    </tr>\n",
       "    <tr>\n",
       "      <th>Versicolor</th>\n",
       "      <td>1</td>\n",
       "      <td>0.9375</td>\n",
       "      <td>0</td>\n",
       "      <td>0.928571</td>\n",
       "    </tr>\n",
       "    <tr>\n",
       "      <th>Virginica</th>\n",
       "      <td>1</td>\n",
       "      <td>1</td>\n",
       "      <td>1</td>\n",
       "      <td>0.03125</td>\n",
       "    </tr>\n",
       "  </tbody>\n",
       "</table>\n",
       "</div>"
      ],
      "text/plain": [
       "           TPR     TNR Pre       FPR\n",
       "Setosa       1       0   1   0.96875\n",
       "Versicolor   1  0.9375   0  0.928571\n",
       "Virginica    1       1   1   0.03125"
      ]
     },
     "execution_count": 20,
     "metadata": {},
     "output_type": "execute_result"
    }
   ],
   "source": [
    "df=pd.DataFrame({\"TPR\":['1','1','1'],\"TNR\":['0','0.9375','1'],\"Pre\":['1','0','1'],\"FPR\":['0.96875','0.928571','0.03125']})\n",
    "df.index=['Setosa','Versicolor','Virginica']\n",
    "df"
   ]
  },
  {
   "cell_type": "markdown",
   "id": "95b931b2",
   "metadata": {},
   "source": [
    "# 3. Naivy Bayes"
   ]
  },
  {
   "cell_type": "code",
   "execution_count": 21,
   "id": "2b7bb72b",
   "metadata": {},
   "outputs": [],
   "source": [
    "from sklearn.model_selection import train_test_split\n",
    "X_train,X_test,y_train,y_test =train_test_split(X,Y,test_size=0.2)"
   ]
  },
  {
   "cell_type": "code",
   "execution_count": 22,
   "id": "ea670ffa",
   "metadata": {},
   "outputs": [],
   "source": [
    "from sklearn.preprocessing import StandardScaler\n",
    "sc=StandardScaler()\n",
    "X_train=sc.fit_transform(X_train)\n",
    "X_test=sc.transform(X_test)"
   ]
  },
  {
   "cell_type": "code",
   "execution_count": 23,
   "id": "e08ae554",
   "metadata": {},
   "outputs": [
    {
     "data": {
      "text/plain": [
       "GaussianNB()"
      ]
     },
     "execution_count": 23,
     "metadata": {},
     "output_type": "execute_result"
    }
   ],
   "source": [
    "from sklearn.naive_bayes import GaussianNB\n",
    "classifier=GaussianNB()\n",
    "classifier.fit(X_train,y_train)"
   ]
  },
  {
   "cell_type": "code",
   "execution_count": 24,
   "id": "0f84036d",
   "metadata": {},
   "outputs": [
    {
     "data": {
      "text/plain": [
       "array([1, 2, 2, 0, 0, 0, 0, 2, 0, 1, 0, 0, 2, 0, 0, 2, 0, 2, 0, 1, 0, 0,\n",
       "       1, 1, 1, 2, 0, 2, 0, 0])"
      ]
     },
     "execution_count": 24,
     "metadata": {},
     "output_type": "execute_result"
    }
   ],
   "source": [
    "y_pred=classifier.predict(X_test)\n",
    "y_pred"
   ]
  },
  {
   "cell_type": "code",
   "execution_count": 25,
   "id": "36b8cc2f",
   "metadata": {},
   "outputs": [
    {
     "data": {
      "text/plain": [
       "array([[16,  0,  0],\n",
       "       [ 0,  5,  1],\n",
       "       [ 0,  1,  7]], dtype=int64)"
      ]
     },
     "metadata": {},
     "output_type": "display_data"
    },
    {
     "name": "stdout",
     "output_type": "stream",
     "text": [
      "Accuracy of model is: 0.9333333333333333\n",
      "Error rate of model is: 0.06666666666666665\n"
     ]
    }
   ],
   "source": [
    "from sklearn.metrics import confusion_matrix , accuracy_score\n",
    "cm = confusion_matrix(y_test,y_pred)\n",
    "display(cm)\n",
    "print(\"Accuracy of model is:\",accuracy_score(y_test,y_pred))\n",
    "print(\"Error rate of model is:\",1-accuracy_score(y_test,y_pred))"
   ]
  },
  {
   "cell_type": "code",
   "execution_count": 26,
   "id": "abee4f08",
   "metadata": {},
   "outputs": [
    {
     "name": "stdout",
     "output_type": "stream",
     "text": [
      "              precision    recall  f1-score   support\n",
      "\n",
      "           0       1.00      1.00      1.00        16\n",
      "           1       0.83      0.83      0.83         6\n",
      "           2       0.88      0.88      0.88         8\n",
      "\n",
      "    accuracy                           0.93        30\n",
      "   macro avg       0.90      0.90      0.90        30\n",
      "weighted avg       0.93      0.93      0.93        30\n",
      "\n"
     ]
    }
   ],
   "source": [
    "from sklearn.metrics import classification_report,accuracy_score,confusion_matrix\n",
    "print(classification_report(y_test,y_pred))"
   ]
  },
  {
   "cell_type": "code",
   "execution_count": 27,
   "id": "6d17b1ad",
   "metadata": {},
   "outputs": [
    {
     "name": "stdout",
     "output_type": "stream",
     "text": [
      "1.0\n",
      "1.0\n",
      "1.0\n",
      "0.0\n",
      "0.8333333333333334\n",
      "0.875\n",
      "0.8333333333333334\n",
      "0.125\n",
      "0.875\n",
      "0.9545454545454546\n",
      "0.875\n",
      "0.045454545454545456\n"
     ]
    }
   ],
   "source": [
    "#setosa\n",
    "TP=cm[0,0]\n",
    "TN=cm[1,1]+cm[1,2]+cm[2,1]+cm[2,2]\n",
    "FN=cm[0,1]+cm[0,2]\n",
    "FP=cm[1,0]+cm[2,0]\n",
    "set_TPR=TP/float(TP+FN)\n",
    "set_TNR=TN/float(TN+FP)\n",
    "set_Pre=TP/float(TP+FP)\n",
    "set_FPR=FP/float(FP+TN)\n",
    "print(set_TPR)\n",
    "print(set_TNR)\n",
    "print(set_Pre)\n",
    "print(set_FPR)\n",
    "#versicolore\n",
    "TP=cm[1,1]\n",
    "TN=cm[0,1]+cm[0,2]+cm[2,0]+cm[2,2]\n",
    "FN=cm[1,0]+cm[1,2]\n",
    "FP=cm[0,1]+cm[2,1]\n",
    "ver_TPR=TP/float(TP+FN)\n",
    "ver_TNR=TN/float(TN+FP)\n",
    "ver_Pre=TP/float(TP+FP)\n",
    "ver_FPR=FP/float(FP+TN)\n",
    "print(ver_TPR)\n",
    "print(ver_TNR)\n",
    "print(ver_Pre)\n",
    "print(ver_FPR)\n",
    "#virginia\n",
    "TP=cm[2,2]\n",
    "TN=cm[0,0]+cm[0,1]+cm[1,0]+cm[1,1]\n",
    "FN=cm[2,0]+cm[2,1]\n",
    "FP=cm[0,2]+cm[1,2]\n",
    "vir_TPR=TP/float(TP+FN)\n",
    "vir_TNR=TN/float(TN+FP)\n",
    "vir_Pre=TP/float(TP+FP)\n",
    "vir_FPR=FP/float(FP+TN)\n",
    "print(vir_TPR)\n",
    "print(vir_TNR)\n",
    "print(vir_Pre)\n",
    "print(vir_FPR)"
   ]
  },
  {
   "cell_type": "code",
   "execution_count": 28,
   "id": "1851a480",
   "metadata": {},
   "outputs": [
    {
     "data": {
      "text/html": [
       "<div>\n",
       "<style scoped>\n",
       "    .dataframe tbody tr th:only-of-type {\n",
       "        vertical-align: middle;\n",
       "    }\n",
       "\n",
       "    .dataframe tbody tr th {\n",
       "        vertical-align: top;\n",
       "    }\n",
       "\n",
       "    .dataframe thead th {\n",
       "        text-align: right;\n",
       "    }\n",
       "</style>\n",
       "<table border=\"1\" class=\"dataframe\">\n",
       "  <thead>\n",
       "    <tr style=\"text-align: right;\">\n",
       "      <th></th>\n",
       "      <th>TPR</th>\n",
       "      <th>TNR</th>\n",
       "      <th>Pre</th>\n",
       "      <th>FPR</th>\n",
       "    </tr>\n",
       "  </thead>\n",
       "  <tbody>\n",
       "    <tr>\n",
       "      <th>Setosa</th>\n",
       "      <td>1</td>\n",
       "      <td>0</td>\n",
       "      <td>0.88888</td>\n",
       "      <td>1</td>\n",
       "    </tr>\n",
       "    <tr>\n",
       "      <th>Versicolor</th>\n",
       "      <td>1</td>\n",
       "      <td>1</td>\n",
       "      <td>0.11111</td>\n",
       "      <td>1</td>\n",
       "    </tr>\n",
       "    <tr>\n",
       "      <th>Virginica</th>\n",
       "      <td>1</td>\n",
       "      <td>0.8888888</td>\n",
       "      <td>0.88888</td>\n",
       "      <td>0</td>\n",
       "    </tr>\n",
       "  </tbody>\n",
       "</table>\n",
       "</div>"
      ],
      "text/plain": [
       "           TPR        TNR      Pre FPR\n",
       "Setosa       1          0  0.88888   1\n",
       "Versicolor   1          1  0.11111   1\n",
       "Virginica    1  0.8888888  0.88888   0"
      ]
     },
     "execution_count": 28,
     "metadata": {},
     "output_type": "execute_result"
    }
   ],
   "source": [
    "df=pd.DataFrame({\"TPR\":['1','1','1'],\"TNR\":['0','1','0.8888888'],\"Pre\":['0.88888','0.11111','0.88888'],\"FPR\":['1','1','0']})\n",
    "df.index=['Setosa','Versicolor','Virginica']\n",
    "df"
   ]
  },
  {
   "cell_type": "markdown",
   "id": "29bcb06d",
   "metadata": {},
   "source": [
    "# 4. Decision Tree"
   ]
  },
  {
   "cell_type": "code",
   "execution_count": 29,
   "id": "aac2422d",
   "metadata": {},
   "outputs": [],
   "source": [
    "from sklearn.model_selection  import train_test_split\n",
    "x_train,x_test,y_train,y_test=train_test_split(X,Y,random_state=50,test_size=0.50)"
   ]
  },
  {
   "cell_type": "code",
   "execution_count": 30,
   "id": "9bebdaef",
   "metadata": {},
   "outputs": [
    {
     "data": {
      "text/plain": [
       "DecisionTreeClassifier()"
      ]
     },
     "execution_count": 30,
     "metadata": {},
     "output_type": "execute_result"
    }
   ],
   "source": [
    "from sklearn.tree import DecisionTreeClassifier\n",
    "classifier=DecisionTreeClassifier()\n",
    "classifier.fit(x_train,y_train)"
   ]
  },
  {
   "cell_type": "code",
   "execution_count": 31,
   "id": "062b95fc",
   "metadata": {},
   "outputs": [],
   "source": [
    "y_pred=classifier.predict(x_test)"
   ]
  },
  {
   "cell_type": "code",
   "execution_count": 32,
   "id": "4961e4b1",
   "metadata": {},
   "outputs": [],
   "source": [
    "from sklearn.metrics import confusion_matrix,accuracy_score"
   ]
  },
  {
   "cell_type": "code",
   "execution_count": 33,
   "id": "5d3ca7a8",
   "metadata": {},
   "outputs": [
    {
     "name": "stdout",
     "output_type": "stream",
     "text": [
      "Train Data accuracy: 1.0\n"
     ]
    }
   ],
   "source": [
    "print(\"Train Data accuracy:\",accuracy_score(y_true=y_train,y_pred=classifier.predict(x_train)))"
   ]
  },
  {
   "cell_type": "code",
   "execution_count": 34,
   "id": "2b2f5058",
   "metadata": {},
   "outputs": [
    {
     "name": "stdout",
     "output_type": "stream",
     "text": [
      "Accuracy of the model is  97.33333333333334 %\n",
      "Error rate of the model is  2.67 %\n"
     ]
    }
   ],
   "source": [
    "print(\"Accuracy of the model is \",accuracy_score(y_test,y_pred)*100,\"%\")\n",
    "print(\"Error rate of the model is \",round(100-accuracy_score(y_test,y_pred)*100,2),\"%\")"
   ]
  },
  {
   "cell_type": "code",
   "execution_count": 35,
   "id": "cbb22832",
   "metadata": {},
   "outputs": [
    {
     "name": "stdout",
     "output_type": "stream",
     "text": [
      "              precision    recall  f1-score   support\n",
      "\n",
      "           0       1.00      1.00      1.00        25\n",
      "           1       0.96      0.96      0.96        26\n",
      "           2       0.96      0.96      0.96        24\n",
      "\n",
      "    accuracy                           0.97        75\n",
      "   macro avg       0.97      0.97      0.97        75\n",
      "weighted avg       0.97      0.97      0.97        75\n",
      "\n"
     ]
    },
    {
     "data": {
      "text/plain": [
       "array([[25,  0,  0],\n",
       "       [ 0, 25,  1],\n",
       "       [ 0,  1, 23]], dtype=int64)"
      ]
     },
     "execution_count": 35,
     "metadata": {},
     "output_type": "execute_result"
    }
   ],
   "source": [
    "from sklearn.metrics import classification_report,accuracy_score,confusion_matrix\n",
    "print(classification_report(y_test,y_pred))\n",
    "cm=confusion_matrix(y_test,y_pred)\n",
    "cm"
   ]
  },
  {
   "cell_type": "code",
   "execution_count": 36,
   "id": "8269f961",
   "metadata": {},
   "outputs": [
    {
     "name": "stdout",
     "output_type": "stream",
     "text": [
      "1.0\n",
      "1.0\n",
      "1.0\n",
      "0.0\n",
      "0.9615384615384616\n",
      "0.9583333333333334\n",
      "0.9615384615384616\n",
      "0.041666666666666664\n",
      "0.9583333333333334\n",
      "0.9803921568627451\n",
      "0.9583333333333334\n",
      "0.0196078431372549\n"
     ]
    }
   ],
   "source": [
    "#setosa\n",
    "TP=cm[0,0]\n",
    "TN=cm[1,1]+cm[1,2]+cm[2,1]+cm[2,2]\n",
    "FN=cm[0,1]+cm[0,2]\n",
    "FP=cm[1,0]+cm[2,0]\n",
    "set_TPR=TP/float(TP+FN)\n",
    "set_TNR=TN/float(TN+FP)\n",
    "set_Pre=TP/float(TP+FP)\n",
    "set_FPR=FP/float(FP+TN)\n",
    "print(set_TPR)\n",
    "print(set_TNR)\n",
    "print(set_Pre)\n",
    "print(set_FPR)\n",
    "#versicolore\n",
    "TP=cm[1,1]\n",
    "TN=cm[0,1]+cm[0,2]+cm[2,0]+cm[2,2]\n",
    "FN=cm[1,0]+cm[1,2]\n",
    "FP=cm[0,1]+cm[2,1]\n",
    "ver_TPR=TP/float(TP+FN)\n",
    "ver_TNR=TN/float(TN+FP)\n",
    "ver_Pre=TP/float(TP+FP)\n",
    "ver_FPR=FP/float(FP+TN)\n",
    "print(ver_TPR)\n",
    "print(ver_TNR)\n",
    "print(ver_Pre)\n",
    "print(ver_FPR)\n",
    "#virginia\n",
    "TP=cm[2,2]\n",
    "TN=cm[0,0]+cm[0,1]+cm[1,0]+cm[1,1]\n",
    "FN=cm[2,0]+cm[2,1]\n",
    "FP=cm[0,2]+cm[1,2]\n",
    "vir_TPR=TP/float(TP+FN)\n",
    "vir_TNR=TN/float(TN+FP)\n",
    "vir_Pre=TP/float(TP+FP)\n",
    "vir_FPR=FP/float(FP+TN)\n",
    "print(vir_TPR)\n",
    "print(vir_TNR)\n",
    "print(vir_Pre)\n",
    "print(vir_FPR)"
   ]
  },
  {
   "cell_type": "code",
   "execution_count": 37,
   "id": "c9964ddf",
   "metadata": {},
   "outputs": [
    {
     "data": {
      "text/html": [
       "<div>\n",
       "<style scoped>\n",
       "    .dataframe tbody tr th:only-of-type {\n",
       "        vertical-align: middle;\n",
       "    }\n",
       "\n",
       "    .dataframe tbody tr th {\n",
       "        vertical-align: top;\n",
       "    }\n",
       "\n",
       "    .dataframe thead th {\n",
       "        text-align: right;\n",
       "    }\n",
       "</style>\n",
       "<table border=\"1\" class=\"dataframe\">\n",
       "  <thead>\n",
       "    <tr style=\"text-align: right;\">\n",
       "      <th></th>\n",
       "      <th>TPR</th>\n",
       "      <th>TNR</th>\n",
       "      <th>Pre</th>\n",
       "      <th>FPR</th>\n",
       "    </tr>\n",
       "  </thead>\n",
       "  <tbody>\n",
       "    <tr>\n",
       "      <th>Setosa</th>\n",
       "      <td>1</td>\n",
       "      <td>0</td>\n",
       "      <td>0.961538</td>\n",
       "      <td>0.980392</td>\n",
       "    </tr>\n",
       "    <tr>\n",
       "      <th>Versicolor</th>\n",
       "      <td>1</td>\n",
       "      <td>0.961538</td>\n",
       "      <td>0.0416666</td>\n",
       "      <td>0.95833</td>\n",
       "    </tr>\n",
       "    <tr>\n",
       "      <th>Virginica</th>\n",
       "      <td>1</td>\n",
       "      <td>0.958333</td>\n",
       "      <td>0.958333</td>\n",
       "      <td>0.01960</td>\n",
       "    </tr>\n",
       "  </tbody>\n",
       "</table>\n",
       "</div>"
      ],
      "text/plain": [
       "           TPR       TNR        Pre       FPR\n",
       "Setosa       1         0   0.961538  0.980392\n",
       "Versicolor   1  0.961538  0.0416666   0.95833\n",
       "Virginica    1  0.958333   0.958333   0.01960"
      ]
     },
     "execution_count": 37,
     "metadata": {},
     "output_type": "execute_result"
    }
   ],
   "source": [
    "df=pd.DataFrame({\"TPR\":['1','1','1'],\"TNR\":['0','0.961538','0.958333'],\"Pre\":['0.961538','0.0416666','0.958333'],\"FPR\":['0.980392','0.95833','0.01960']})\n",
    "df.index=['Setosa','Versicolor','Virginica']\n",
    "df"
   ]
  },
  {
   "cell_type": "markdown",
   "id": "ca13cb9c",
   "metadata": {},
   "source": [
    "# 5. Logistic Regression"
   ]
  },
  {
   "cell_type": "code",
   "execution_count": 38,
   "id": "d666a944",
   "metadata": {},
   "outputs": [],
   "source": [
    "from sklearn.model_selection  import train_test_split\n",
    "x_train,x_test,y_train,y_test=train_test_split(X,Y,random_state=42,test_size=0.20)"
   ]
  },
  {
   "cell_type": "code",
   "execution_count": 39,
   "id": "92401728",
   "metadata": {},
   "outputs": [
    {
     "name": "stderr",
     "output_type": "stream",
     "text": [
      "C:\\Users\\FLUTE\\anaconda3\\lib\\site-packages\\sklearn\\linear_model\\_logistic.py:763: ConvergenceWarning: lbfgs failed to converge (status=1):\n",
      "STOP: TOTAL NO. of ITERATIONS REACHED LIMIT.\n",
      "\n",
      "Increase the number of iterations (max_iter) or scale the data as shown in:\n",
      "    https://scikit-learn.org/stable/modules/preprocessing.html\n",
      "Please also refer to the documentation for alternative solver options:\n",
      "    https://scikit-learn.org/stable/modules/linear_model.html#logistic-regression\n",
      "  n_iter_i = _check_optimize_result(\n"
     ]
    },
    {
     "data": {
      "text/plain": [
       "LogisticRegression()"
      ]
     },
     "execution_count": 39,
     "metadata": {},
     "output_type": "execute_result"
    }
   ],
   "source": [
    "from sklearn.linear_model import LogisticRegression\n",
    "model=LogisticRegression()\n",
    "model.fit(x_train,y_train)"
   ]
  },
  {
   "cell_type": "code",
   "execution_count": 40,
   "id": "4d9b8173",
   "metadata": {},
   "outputs": [
    {
     "data": {
      "text/plain": [
       "array([1, 0, 2, 1, 1, 0, 1, 2, 1, 1, 2, 0, 0, 0, 0, 1, 2, 1, 1, 2, 0, 2,\n",
       "       0, 2, 2, 2, 2, 2, 0, 0])"
      ]
     },
     "execution_count": 40,
     "metadata": {},
     "output_type": "execute_result"
    }
   ],
   "source": [
    "pred=model.predict(x_test)\n",
    "pred"
   ]
  },
  {
   "cell_type": "code",
   "execution_count": 41,
   "id": "e456a3c2",
   "metadata": {},
   "outputs": [
    {
     "name": "stdout",
     "output_type": "stream",
     "text": [
      "              precision    recall  f1-score   support\n",
      "\n",
      "           0       1.00      1.00      1.00        10\n",
      "           1       1.00      1.00      1.00         9\n",
      "           2       1.00      1.00      1.00        11\n",
      "\n",
      "    accuracy                           1.00        30\n",
      "   macro avg       1.00      1.00      1.00        30\n",
      "weighted avg       1.00      1.00      1.00        30\n",
      "\n",
      "Accuracy of the model is  100.0 %\n",
      "Error rate of the model is  0.0 %\n"
     ]
    },
    {
     "data": {
      "text/plain": [
       "array([[10,  0,  0],\n",
       "       [ 0,  9,  0],\n",
       "       [ 0,  0, 11]], dtype=int64)"
      ]
     },
     "execution_count": 41,
     "metadata": {},
     "output_type": "execute_result"
    }
   ],
   "source": [
    "from sklearn.metrics import classification_report,accuracy_score,confusion_matrix\n",
    "print(classification_report(y_test,pred))\n",
    "print(\"Accuracy of the model is \",accuracy_score(y_test,pred)*100,\"%\")\n",
    "print(\"Error rate of the model is \",round(100-accuracy_score(y_test,pred)*100,2),\"%\")\n",
    "cm=confusion_matrix(y_test,pred)\n",
    "cm"
   ]
  },
  {
   "cell_type": "code",
   "execution_count": 42,
   "id": "7eec7e2f",
   "metadata": {},
   "outputs": [
    {
     "name": "stdout",
     "output_type": "stream",
     "text": [
      "1.0\n",
      "1.0\n",
      "1.0\n",
      "0.0\n",
      "1.0\n",
      "1.0\n",
      "1.0\n",
      "0.0\n",
      "1.0\n",
      "1.0\n",
      "1.0\n",
      "0.0\n"
     ]
    }
   ],
   "source": [
    "#setosa\n",
    "TP=cm[0,0]\n",
    "TN=cm[1,1]+cm[1,2]+cm[2,1]+cm[2,2]\n",
    "FN=cm[0,1]+cm[0,2]\n",
    "FP=cm[1,0]+cm[2,0]\n",
    "set_TPR=TP/float(TP+FN)\n",
    "set_TNR=TN/float(TN+FP)\n",
    "set_Pre=TP/float(TP+FP)\n",
    "set_FPR=FP/float(FP+TN)\n",
    "print(set_TPR)\n",
    "print(set_TNR)\n",
    "print(set_Pre)\n",
    "print(set_FPR)\n",
    "#versicolore\n",
    "TP=cm[1,1]\n",
    "TN=cm[0,1]+cm[0,2]+cm[2,0]+cm[2,2]\n",
    "FN=cm[1,0]+cm[1,2]\n",
    "FP=cm[0,1]+cm[2,1]\n",
    "ver_TPR=TP/float(TP+FN)\n",
    "ver_TNR=TN/float(TN+FP)\n",
    "ver_Pre=TP/float(TP+FP)\n",
    "ver_FPR=FP/float(FP+TN)\n",
    "print(ver_TPR)\n",
    "print(ver_TNR)\n",
    "print(ver_Pre)\n",
    "print(ver_FPR)\n",
    "#virginia\n",
    "TP=cm[2,2]\n",
    "TN=cm[0,0]+cm[0,1]+cm[1,0]+cm[1,1]\n",
    "FN=cm[2,0]+cm[2,1]\n",
    "FP=cm[0,2]+cm[1,2]\n",
    "vir_TPR=TP/float(TP+FN)\n",
    "vir_TNR=TN/float(TN+FP)\n",
    "vir_Pre=TP/float(TP+FP)\n",
    "vir_FPR=FP/float(FP+TN)\n",
    "print(vir_TPR)\n",
    "print(vir_TNR)\n",
    "print(vir_Pre)\n",
    "print(vir_FPR)"
   ]
  },
  {
   "cell_type": "code",
   "execution_count": 43,
   "id": "181d2abb",
   "metadata": {},
   "outputs": [
    {
     "data": {
      "text/html": [
       "<div>\n",
       "<style scoped>\n",
       "    .dataframe tbody tr th:only-of-type {\n",
       "        vertical-align: middle;\n",
       "    }\n",
       "\n",
       "    .dataframe tbody tr th {\n",
       "        vertical-align: top;\n",
       "    }\n",
       "\n",
       "    .dataframe thead th {\n",
       "        text-align: right;\n",
       "    }\n",
       "</style>\n",
       "<table border=\"1\" class=\"dataframe\">\n",
       "  <thead>\n",
       "    <tr style=\"text-align: right;\">\n",
       "      <th></th>\n",
       "      <th>TPR</th>\n",
       "      <th>TNR</th>\n",
       "      <th>Pre</th>\n",
       "      <th>FPR</th>\n",
       "    </tr>\n",
       "  </thead>\n",
       "  <tbody>\n",
       "    <tr>\n",
       "      <th>Setosa</th>\n",
       "      <td>1</td>\n",
       "      <td>0</td>\n",
       "      <td>1</td>\n",
       "      <td>1</td>\n",
       "    </tr>\n",
       "    <tr>\n",
       "      <th>Versicolor</th>\n",
       "      <td>1</td>\n",
       "      <td>1</td>\n",
       "      <td>0</td>\n",
       "      <td>1</td>\n",
       "    </tr>\n",
       "    <tr>\n",
       "      <th>Virginica</th>\n",
       "      <td>1</td>\n",
       "      <td>1</td>\n",
       "      <td>1</td>\n",
       "      <td>0</td>\n",
       "    </tr>\n",
       "  </tbody>\n",
       "</table>\n",
       "</div>"
      ],
      "text/plain": [
       "           TPR TNR Pre FPR\n",
       "Setosa       1   0   1   1\n",
       "Versicolor   1   1   0   1\n",
       "Virginica    1   1   1   0"
      ]
     },
     "execution_count": 43,
     "metadata": {},
     "output_type": "execute_result"
    }
   ],
   "source": [
    "df=pd.DataFrame({\"TPR\":['1','1','1'],\"TNR\":['0','1','1'],\"Pre\":['1','0','1'],\"FPR\":['1','1','0']})\n",
    "df.index=['Setosa','Versicolor','Virginica']\n",
    "df"
   ]
  },
  {
   "cell_type": "markdown",
   "id": "4c2d5486",
   "metadata": {},
   "source": [
    "# 6. Random Forest"
   ]
  },
  {
   "cell_type": "code",
   "execution_count": 45,
   "id": "35d35266",
   "metadata": {},
   "outputs": [],
   "source": [
    "from sklearn.model_selection  import train_test_split\n",
    "x_train,x_test,y_train,y_test=train_test_split(X,Y,random_state=42,test_size=0.20)"
   ]
  },
  {
   "cell_type": "code",
   "execution_count": 46,
   "id": "f1187cff",
   "metadata": {},
   "outputs": [
    {
     "data": {
      "text/plain": [
       "RandomForestClassifier(criterion='entropy', n_estimators=10, oob_score=True,\n",
       "                       random_state=42)"
      ]
     },
     "execution_count": 46,
     "metadata": {},
     "output_type": "execute_result"
    }
   ],
   "source": [
    "from sklearn.ensemble import RandomForestClassifier\n",
    "model=RandomForestClassifier(n_estimators=10,criterion='entropy',random_state=42,oob_score=True)\n",
    "model.fit(x_train,y_train)"
   ]
  },
  {
   "cell_type": "code",
   "execution_count": 47,
   "id": "1746d803",
   "metadata": {},
   "outputs": [
    {
     "data": {
      "text/plain": [
       "array([1, 0, 2, 1, 1, 0, 1, 2, 1, 1, 2, 0, 0, 0, 0, 1, 2, 1, 1, 2, 0, 2,\n",
       "       0, 2, 2, 2, 2, 2, 0, 0])"
      ]
     },
     "execution_count": 47,
     "metadata": {},
     "output_type": "execute_result"
    }
   ],
   "source": [
    "pred=model.predict(x_test)\n",
    "pred"
   ]
  },
  {
   "cell_type": "code",
   "execution_count": 48,
   "id": "f1c70096",
   "metadata": {},
   "outputs": [
    {
     "name": "stdout",
     "output_type": "stream",
     "text": [
      "              precision    recall  f1-score   support\n",
      "\n",
      "           0       1.00      1.00      1.00        10\n",
      "           1       1.00      1.00      1.00         9\n",
      "           2       1.00      1.00      1.00        11\n",
      "\n",
      "    accuracy                           1.00        30\n",
      "   macro avg       1.00      1.00      1.00        30\n",
      "weighted avg       1.00      1.00      1.00        30\n",
      "\n",
      "Accuracy of the model is  100.0 %\n",
      "Error rate of the model is  0.0 %\n"
     ]
    },
    {
     "data": {
      "text/plain": [
       "array([[10,  0,  0],\n",
       "       [ 0,  9,  0],\n",
       "       [ 0,  0, 11]], dtype=int64)"
      ]
     },
     "execution_count": 48,
     "metadata": {},
     "output_type": "execute_result"
    }
   ],
   "source": [
    "from sklearn.metrics import classification_report,accuracy_score,confusion_matrix\n",
    "print(classification_report(y_test,pred))\n",
    "print(\"Accuracy of the model is \",accuracy_score(y_test,pred)*100,\"%\")\n",
    "print(\"Error rate of the model is \",round(100-accuracy_score(y_test,pred)*100,2),\"%\")\n",
    "cm=confusion_matrix(y_test,pred)\n",
    "cm"
   ]
  },
  {
   "cell_type": "code",
   "execution_count": 49,
   "id": "9d342753",
   "metadata": {},
   "outputs": [
    {
     "name": "stdout",
     "output_type": "stream",
     "text": [
      "1.0\n",
      "1.0\n",
      "1.0\n",
      "0.0\n",
      "1.0\n",
      "1.0\n",
      "1.0\n",
      "0.0\n",
      "1.0\n",
      "1.0\n",
      "1.0\n",
      "0.0\n"
     ]
    }
   ],
   "source": [
    "#setosa\n",
    "TP=cm[0,0]\n",
    "TN=cm[1,1]+cm[1,2]+cm[2,1]+cm[2,2]\n",
    "FN=cm[0,1]+cm[0,2]\n",
    "FP=cm[1,0]+cm[2,0]\n",
    "set_TPR=TP/float(TP+FN)\n",
    "set_TNR=TN/float(TN+FP)\n",
    "set_Pre=TP/float(TP+FP)\n",
    "set_FPR=FP/float(FP+TN)\n",
    "print(set_TPR)\n",
    "print(set_TNR)\n",
    "print(set_Pre)\n",
    "print(set_FPR)\n",
    "#versicolore\n",
    "TP=cm[1,1]\n",
    "TN=cm[0,1]+cm[0,2]+cm[2,0]+cm[2,2]\n",
    "FN=cm[1,0]+cm[1,2]\n",
    "FP=cm[0,1]+cm[2,1]\n",
    "ver_TPR=TP/float(TP+FN)\n",
    "ver_TNR=TN/float(TN+FP)\n",
    "ver_Pre=TP/float(TP+FP)\n",
    "ver_FPR=FP/float(FP+TN)\n",
    "print(ver_TPR)\n",
    "print(ver_TNR)\n",
    "print(ver_Pre)\n",
    "print(ver_FPR)\n",
    "#virginia\n",
    "TP=cm[2,2]\n",
    "TN=cm[0,0]+cm[0,1]+cm[1,0]+cm[1,1]\n",
    "FN=cm[2,0]+cm[2,1]\n",
    "FP=cm[0,2]+cm[1,2]\n",
    "vir_TPR=TP/float(TP+FN)\n",
    "vir_TNR=TN/float(TN+FP)\n",
    "vir_Pre=TP/float(TP+FP)\n",
    "vir_FPR=FP/float(FP+TN)\n",
    "print(vir_TPR)\n",
    "print(vir_TNR)\n",
    "print(vir_Pre)\n",
    "print(vir_FPR)"
   ]
  },
  {
   "cell_type": "code",
   "execution_count": null,
   "id": "e18c68ca",
   "metadata": {},
   "outputs": [],
   "source": []
  }
 ],
 "metadata": {
  "kernelspec": {
   "display_name": "Python 3 (ipykernel)",
   "language": "python",
   "name": "python3"
  },
  "language_info": {
   "codemirror_mode": {
    "name": "ipython",
    "version": 3
   },
   "file_extension": ".py",
   "mimetype": "text/x-python",
   "name": "python",
   "nbconvert_exporter": "python",
   "pygments_lexer": "ipython3",
   "version": "3.9.7"
  }
 },
 "nbformat": 4,
 "nbformat_minor": 5
}
